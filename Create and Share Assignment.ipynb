{
  "metadata": {
    "language_info": {
      "codemirror_mode": {
        "name": "python",
        "version": 3
      },
      "file_extension": ".py",
      "mimetype": "text/x-python",
      "name": "python",
      "nbconvert_exporter": "python",
      "pygments_lexer": "ipython3",
      "version": "3.8"
    },
    "kernelspec": {
      "name": "python",
      "display_name": "Pyolite",
      "language": "python"
    }
  },
  "nbformat_minor": 4,
  "nbformat": 4,
  "cells": [
    {
      "cell_type": "markdown",
      "source": "<h1>My Jupyter Notebook on IBM Watson Studio</h1>",
      "metadata": {
        "tags": []
      }
    },
    {
      "cell_type": "markdown",
      "source": "<b>Stone Bodini</b><br>\nCurrent Occupation: Data Analyst<br>\nDesired Occupation: Data Scientist or MLE",
      "metadata": {}
    },
    {
      "cell_type": "markdown",
      "source": "<i>I am interested in data science because I enjoy critical thinking and complex problems. I also enjoy presenting my finding to stakeholders that drive business decision.</i>",
      "metadata": {}
    },
    {
      "cell_type": "markdown",
      "source": "<h3>My Below code solves the LeetCode Two Sum problem</h3>",
      "metadata": {}
    },
    {
      "cell_type": "code",
      "source": "'''\nGiven an array of integers return the indices of the two numers such that they\nadd up to the specific target\n'''\n\nclass Solution:\n    def twoSum(nums, target):\n        for i in range(len(nums)):\n            for j in range(i + 1, len(nums)):\n                if nums[i] + nums[j] == target:\n                    return [i, j]\n        return []\nSolution.twoSum([2,7,11,15], 9)",
      "metadata": {
        "trusted": true
      },
      "execution_count": 10,
      "outputs": [
        {
          "execution_count": 10,
          "output_type": "execute_result",
          "data": {
            "text/plain": "[0, 1]"
          },
          "metadata": {}
        }
      ]
    }
  ]
}